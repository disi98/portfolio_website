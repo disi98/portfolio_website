{
 "cells": [
  {
   "cell_type": "markdown",
   "metadata": {},
   "source": [
    "#### Importing Libraries"
   ]
  },
  {
   "cell_type": "code",
   "execution_count": 146,
   "metadata": {},
   "outputs": [],
   "source": [
    "import numpy as np\n",
    "import pandas as pd\n",
    "import scipy\n",
    "import random\n",
    "from scipy.spatial import ConvexHull\n",
    "import matplotlib.pyplot as plt\n",
    "from math import pi\n",
    "from scipy.interpolate import NearestNDInterpolator\n",
    "\n",
    "%matplotlib inline\n",
    "\n",
    "#floris simulation modules\n",
    "from floris.tools.wind_rose import WindRose\n",
    "from floris.tools import FlorisInterface\n",
    "import floris.tools.visualization as wakeviz\n",
    "from floris.turbine_library import TurbineInterface, TurbineLibrary\n",
    "from floris.tools.visualization import (\n",
    "    calculate_horizontal_plane_with_turbines,\n",
    "    visualize_cut_plane,\n",
    ")"
   ]
  },
  {
   "cell_type": "markdown",
   "metadata": {},
   "source": [
    "## Optimized Layouts"
   ]
  },
  {
   "cell_type": "markdown",
   "metadata": {},
   "source": [
    "#### Defining Populations"
   ]
  },
  {
   "cell_type": "code",
   "execution_count": 2,
   "metadata": {},
   "outputs": [],
   "source": [
    "# def initialize_populations_sample(n):\n",
    "#     populations = []\n",
    "#     for _ in range(n):  # Generate 6 initial populations\n",
    "#         num_turbines = np.random.randint(3, 11)  # Random number of turbines between 3 and 10\n",
    "#         layout = pd.DataFrame(np.random.randint(1, n, size=(num_turbines, 2)) * 126, columns=['Layout_x', 'Layout_y'])  # Generate coordinates that are multiples of 126 meters\n",
    "#         layout.iloc[0] = [0, 0]  # Set the first turbine at the origin\n",
    "#         populations.append(layout)\n",
    "#     return populations\n",
    "\n",
    "# def firstpopulation():\n",
    "#      return [pd.read_csv('./Population_1.csv'), pd.read_csv('./Population_2.csv'), pd.read_csv('./Population_3.csv'), pd.read_csv('./Population_11.csv'), pd.read_csv('./Population_12.csv'), pd.read_csv('./Population_13.csv')]\n",
    "\n",
    "# populations = initialize_populations_sample(10)\n",
    "# firtP = firstpopulation()\n",
    "# for _ in firstpopulation():\n",
    "#     populations.append(_)\n",
    "\n",
    "# def initialize_populations():\n",
    "#     return populations\n",
    "\n",
    "# len(initialize_populations())"
   ]
  },
  {
   "cell_type": "markdown",
   "metadata": {},
   "source": [
    "#### Defining Parameters"
   ]
  },
  {
   "cell_type": "code",
   "execution_count": 3,
   "metadata": {},
   "outputs": [],
   "source": [
    "min_distance = 126\n",
    "tournament_size = 3\n",
    "target_coverage_area = 800000\n",
    "turbine_diameter = 126\n",
    "mutation_rate = 0.01"
   ]
  },
  {
   "cell_type": "markdown",
   "metadata": {},
   "source": [
    "### The GA Implmentation"
   ]
  },
  {
   "cell_type": "code",
   "execution_count": 190,
   "metadata": {},
   "outputs": [
    {
     "data": {
      "image/png": "[encoded data removed]",
      "text/plain": [
       "<Figure size 500x500 with 1 Axes>"
      ]
     },
     "metadata": {},
     "output_type": "display_data"
    },
    {
     "name": "stdout",
     "output_type": "stream",
     "text": [
      "     Layout_x    Layout_y\n",
      "0    0.000000    0.000000\n",
      "1  130.052160  160.478391\n",
      "2  391.397171  619.532075\n",
      "3  378.432844  331.739955\n",
      "4  623.871903  292.046029\n",
      "5  188.710005  578.910601\n",
      "6  171.834924  439.465284\n",
      "7  541.203473  611.417393\n",
      "Enclosed area:  214523.87511000602\n"
     ]
    }
   ],
   "source": [
    "def initialize_populations():\n",
    "    populations = []\n",
    "    for num_turbines in np.repeat(range(3, 9), 4):  # Generate 24 initial populations\n",
    "        layout = pd.DataFrame(columns=['Layout_x', 'Layout_y'])\n",
    "        layout.loc[0] = [0, 0]  # Set the first turbine at the origin\n",
    "        for _ in range(1, num_turbines):\n",
    "            while True:\n",
    "                new_turbine = pd.DataFrame(np.random.uniform(126, 630, size=(1, 2)), columns=['Layout_x', 'Layout_y'])\n",
    "                if all(np.linalg.norm(layout[['Layout_x', 'Layout_y']].values - new_turbine.values, axis=1) >= 126):\n",
    "                    temp_df = pd.concat([layout, new_turbine], ignore_index=True)\n",
    "                    layout = temp_df.copy()  # Assign the concatenated DataFrame back to layout\n",
    "                    break\n",
    "        populations.append(layout)\n",
    "    return populations\n",
    "\n",
    "\n",
    "def calculate_fitness(layout):\n",
    "    num_turbines = len(layout)\n",
    "    distances = scipy.spatial.distance.pdist(layout[['Layout_x', 'Layout_y']].values)\n",
    "    wake_effect = np.sum(1 / distances)\n",
    "    return num_turbines - wake_effect\n",
    "\n",
    "def tournament_selection(populations):\n",
    "    tournament = random.sample(populations, tournament_size)\n",
    "    return max(tournament, key=calculate_fitness)\n",
    "\n",
    "def crossover(parent1, parent2):\n",
    "    min_length = min(len(parent1), len(parent2))\n",
    "    child = parent1.copy()\n",
    "\n",
    "    for column in child.columns:\n",
    "        random_mask = np.random.rand(min_length) < 0.5\n",
    "        child_vals = np.where(random_mask, parent1[column][:min_length], parent2[column][:min_length])\n",
    "        child[column][:min_length] = child_vals\n",
    "\n",
    "    return child\n",
    "\n",
    "def mutate(df):\n",
    "    if np.random.rand() < mutation_rate:\n",
    "        if len(df) > 3:  # If there are more than 3 turbines, remove one with a certain probability\n",
    "            df = df.drop(np.random.choice(df.index[1:]))  # Do not remove the turbine at the origin\n",
    "        elif len(df) < 10:  # If there are less than 10 turbines, add one with a certain probability\n",
    "            while True:\n",
    "                new_turbine = pd.DataFrame(np.random.uniform(126, 630, size=(1, 2)), columns=['Layout_x', 'Layout_y'])  # Generate coordinates between 126 and 630 meters\n",
    "                if all(np.linalg.norm(df[['Layout_x', 'Layout_y']].values - new_turbine.values, axis=1) >= 126):\n",
    "                    df = df.append(new_turbine, ignore_index=True)\n",
    "                    break\n",
    "    return df\n",
    "\n",
    "def calculate_enclosed_area(layout):\n",
    "    points = layout[['Layout_x', 'Layout_y']].values\n",
    "    hull = ConvexHull(points)\n",
    "    return hull.volume\n",
    "\n",
    "def run_genetic_algorithm(populations):\n",
    "    best_layouts = {i: None for i in range(3, 9)}  # Initialize a dictionary to store the best layout for each number of turbines\n",
    "\n",
    "    for _ in range(20):\n",
    "        next_gen = []\n",
    "        for _ in range(len(populations)):\n",
    "            parent1 = tournament_selection(populations)\n",
    "            parent2 = tournament_selection(populations)\n",
    "            child = crossover(parent1, parent2)\n",
    "            child = mutate(child)\n",
    "            next_gen.append(child)\n",
    "        populations = next_gen\n",
    "\n",
    "    # Sort populations by fitness and enclosed area\n",
    "    populations.sort(key=lambda p: (calculate_fitness(p), -calculate_enclosed_area(p)), reverse=True)\n",
    "\n",
    "    # Update best_layouts with the best layout for each number of turbines\n",
    "    for population in populations:\n",
    "        num_turbines = len(population)\n",
    "        if 3 <= num_turbines <= 8 and best_layouts[num_turbines] is None and calculate_enclosed_area(population) <= 800000:\n",
    "            best_layouts[num_turbines] = population\n",
    "\n",
    "    # If all layouts exceed 800,000 sq meters, return the one with the smallest area\n",
    "    for num_turbines in range(3, 9):\n",
    "        if best_layouts[num_turbines] is None:\n",
    "            best_layouts[num_turbines] = min(populations, key=calculate_enclosed_area)\n",
    "\n",
    "    # Return a layout with a random number of turbines from 3 to 8\n",
    "    return best_layouts[np.random.choice(range(3, 9))]\n",
    "\n",
    "def plot_best_layout(best_layout):\n",
    "    fig, ax = plt.subplots(figsize=(5, 5))  # Adjust subplot configuration\n",
    "    ax.scatter(best_layout['Layout_x'], best_layout['Layout_y'], c='b', s=200)\n",
    "    ax.set_title('Best Layout')\n",
    "    plt.tight_layout()\n",
    "    plt.show()\n",
    "\n",
    "def main():\n",
    "    populations = initialize_populations()\n",
    "    best_layout = run_genetic_algorithm(populations)  # Get only the best layout\n",
    "\n",
    "    plot_best_layout(best_layout)  # Plot only the best layout\n",
    "    print(best_layout)\n",
    "    print(\"Enclosed area: \", calculate_enclosed_area(best_layout))\n",
    "\n",
    "if __name__ == \"__main__\":\n",
    "    main()"
   ]
  },
  {
   "cell_type": "code",
   "execution_count": 156,
   "metadata": {},
   "outputs": [
    {
     "name": "stdout",
     "output_type": "stream",
     "text": [
      "3\n",
      "3\n",
      "3\n",
      "3\n",
      "4\n",
      "4\n",
      "4\n",
      "4\n",
      "5\n",
      "5\n",
      "5\n",
      "5\n",
      "6\n",
      "6\n",
      "6\n",
      "6\n",
      "7\n",
      "7\n",
      "7\n",
      "7\n",
      "8\n",
      "8\n",
      "8\n",
      "8\n"
     ]
    }
   ],
   "source": [
    "def initialize_populations():\n",
    "    populations = []\n",
    "    for num_turbines in np.repeat(range(3, 9), 4):  # Generate 24 initial populations\n",
    "        layout = pd.DataFrame(columns=['Layout_x', 'Layout_y'])\n",
    "        layout.loc[0] = [0, 0]  # Set the first turbine at the origin\n",
    "        for _ in range(1, num_turbines):\n",
    "            while True:\n",
    "                new_turbine = pd.DataFrame(np.random.uniform(126, 630, size=(1, 2)), columns=['Layout_x', 'Layout_y'])\n",
    "                if all(np.linalg.norm(layout[['Layout_x', 'Layout_y']].values - new_turbine.values, axis=1) >= 126):\n",
    "                    temp_df = pd.concat([layout, new_turbine], ignore_index=True)\n",
    "                    layout = temp_df.copy()  # Assign the concatenated DataFrame back to layout\n",
    "                    break\n",
    "        populations.append(layout)\n",
    "    return populations\n",
    "\n",
    "\n",
    "populations_sa = initialize_populations()\n",
    "for _ in populations_sa:\n",
    "    print(len(_))"
   ]
  },
  {
   "cell_type": "code",
   "execution_count": 157,
   "metadata": {},
   "outputs": [],
   "source": [
    "def plot_best_layouts(best_layout):\n",
    "    fig, ax = plt.subplots(figsize=(5, 5))  # Adjust subplot configuration\n",
    "    ax.scatter(best_layout['Layout_x'], best_layout['Layout_y'], c='b', s=200)\n",
    "\n",
    "    # Calculate and plot Convex Hull\n",
    "    points = best_layout[['Layout_x', 'Layout_y']].values\n",
    "    hull = ConvexHull(points)\n",
    "    for simplex in hull.simplices:\n",
    "        ax.plot(points[simplex, 0], points[simplex, 1], 'k-')\n",
    "\n",
    "    # Shade the area enclosed by the Convex Hull\n",
    "    ax.fill(points[hull.vertices,0], points[hull.vertices,1], 'k', alpha=0.3)"
   ]
  },
  {
   "cell_type": "code",
   "execution_count": null,
   "metadata": {},
   "outputs": [],
   "source": []
  },
  {
   "cell_type": "code",
   "execution_count": null,
   "metadata": {},
   "outputs": [],
   "source": []
  },
  {
   "cell_type": "code",
   "execution_count": 20,
   "metadata": {},
   "outputs": [
    {
     "name": "stdout",
     "output_type": "stream",
     "text": [
      "6\n",
      "4\n",
      "3\n",
      "10\n",
      "8\n",
      "6\n"
     ]
    }
   ],
   "source": []
  },
  {
   "cell_type": "code",
   "execution_count": 191,
   "metadata": {},
   "outputs": [
    {
     "data": {
      "image/png": "[encoded data removed]",
      "text/plain": [
       "<Figure size 500x500 with 1 Axes>"
      ]
     },
     "metadata": {},
     "output_type": "display_data"
    },
    {
     "name": "stdout",
     "output_type": "stream",
     "text": [
      "298995.17245126906\n"
     ]
    },
    {
     "data": {
      "text/plain": [
       "8"
      ]
     },
     "execution_count": 191,
     "metadata": {},
     "output_type": "execute_result"
    },
    {
     "data": {
      "image/png": "[encoded data removed]",
      "text/plain": [
       "<Figure size 500x500 with 1 Axes>"
      ]
     },
     "metadata": {},
     "output_type": "display_data"
    }
   ],
   "source": [
    "populations = initialize_populations()\n",
    "best_layout = run_genetic_algorithm(populations)  # Get only the best layout\n",
    "plot_best_layout(best_layout)  # Plot only the best layout\n",
    "plot_best_layouts(best_layout)\n",
    "print(calculate_enclosed_area(best_layout))\n",
    "len(best_layout)"
   ]
  },
  {
   "cell_type": "markdown",
   "metadata": {},
   "source": [
    "### Generation 1 Population"
   ]
  },
  {
   "cell_type": "code",
   "execution_count": 192,
   "metadata": {},
   "outputs": [
    {
     "data": {
      "text/html": [
       "<div>\n",
       "<style scoped>\n",
       "    .dataframe tbody tr th:only-of-type {\n",
       "        vertical-align: middle;\n",
       "    }\n",
       "\n",
       "    .dataframe tbody tr th {\n",
       "        vertical-align: top;\n",
       "    }\n",
       "\n",
       "    .dataframe thead th {\n",
       "        text-align: right;\n",
       "    }\n",
       "</style>\n",
       "<table border=\"1\" class=\"dataframe\">\n",
       "  <thead>\n",
       "    <tr style=\"text-align: right;\">\n",
       "      <th></th>\n",
       "      <th>Layout_x</th>\n",
       "      <th>Layout_y</th>\n",
       "    </tr>\n",
       "  </thead>\n",
       "  <tbody>\n",
       "    <tr>\n",
       "      <th>0</th>\n",
       "      <td>0.000000</td>\n",
       "      <td>0.000000</td>\n",
       "    </tr>\n",
       "    <tr>\n",
       "      <th>1</th>\n",
       "      <td>363.068594</td>\n",
       "      <td>472.808282</td>\n",
       "    </tr>\n",
       "    <tr>\n",
       "      <th>2</th>\n",
       "      <td>131.846705</td>\n",
       "      <td>378.373596</td>\n",
       "    </tr>\n",
       "    <tr>\n",
       "      <th>3</th>\n",
       "      <td>345.737749</td>\n",
       "      <td>183.695165</td>\n",
       "    </tr>\n",
       "    <tr>\n",
       "      <th>4</th>\n",
       "      <td>135.045686</td>\n",
       "      <td>136.353327</td>\n",
       "    </tr>\n",
       "    <tr>\n",
       "      <th>5</th>\n",
       "      <td>526.990803</td>\n",
       "      <td>619.264691</td>\n",
       "    </tr>\n",
       "    <tr>\n",
       "      <th>6</th>\n",
       "      <td>236.921970</td>\n",
       "      <td>609.117600</td>\n",
       "    </tr>\n",
       "    <tr>\n",
       "      <th>7</th>\n",
       "      <td>598.273717</td>\n",
       "      <td>150.631496</td>\n",
       "    </tr>\n",
       "  </tbody>\n",
       "</table>\n",
       "</div>"
      ],
      "text/plain": [
       "     Layout_x    Layout_y\n",
       "0    0.000000    0.000000\n",
       "1  363.068594  472.808282\n",
       "2  131.846705  378.373596\n",
       "3  345.737749  183.695165\n",
       "4  135.045686  136.353327\n",
       "5  526.990803  619.264691\n",
       "6  236.921970  609.117600\n",
       "7  598.273717  150.631496"
      ]
     },
     "execution_count": 192,
     "metadata": {},
     "output_type": "execute_result"
    }
   ],
   "source": [
    "def get_gen1_populations():\n",
    "    gen_1_pop = []\n",
    "    for _ in range(40):\n",
    "        best_layout = run_genetic_algorithm(populations)\n",
    "        gen_1_pop.append(best_layout)\n",
    "    return gen_1_pop\n",
    "\n",
    "gen_1_pop = get_gen1_populations()\n",
    "gen_1_pop[0]"
   ]
  },
  {
   "cell_type": "code",
   "execution_count": 193,
   "metadata": {},
   "outputs": [
    {
     "data": {
      "image/png": "[encoded data removed]",
      "text/plain": [
       "<Figure size 500x500 with 1 Axes>"
      ]
     },
     "metadata": {},
     "output_type": "display_data"
    },
    {
     "name": "stdout",
     "output_type": "stream",
     "text": [
      "257981.14385646296\n"
     ]
    },
    {
     "data": {
      "text/plain": [
       "8"
      ]
     },
     "execution_count": 193,
     "metadata": {},
     "output_type": "execute_result"
    },
    {
     "data": {
      "image/png": "[encoded data removed]",
      "text/plain": [
       "<Figure size 500x500 with 1 Axes>"
      ]
     },
     "metadata": {},
     "output_type": "display_data"
    }
   ],
   "source": [
    "plot_best_layout(gen_1_pop[0])  # Plot only the best layout\n",
    "plot_best_layouts(gen_1_pop[0])\n",
    "print(calculate_enclosed_area(gen_1_pop[1]))\n",
    "len(gen_1_pop[1])   # 10"
   ]
  },
  {
   "cell_type": "markdown",
   "metadata": {},
   "source": [
    "## Wind Power With Floris Interface"
   ]
  },
  {
   "cell_type": "markdown",
   "metadata": {},
   "source": [
    "#### Wind Rose"
   ]
  },
  {
   "cell_type": "code",
   "execution_count": 172,
   "metadata": {},
   "outputs": [
    {
     "name": "stdout",
     "output_type": "stream",
     "text": [
      "Correcting negative Overhang:-2.5\n"
     ]
    }
   ],
   "source": [
    "df_wind_montly = pd.read_csv('./2020_Daily_Avgs.csv')\n",
    "df_wind_montly.head()\n",
    "\n",
    "list_wd_bins = [0., 5., 10., 15., 20., 25., 30., 35., 40., 45., 50., 55., 60., 65., 70., 75., 80., 85., 90., 95., 100., 105., 110., 115., 120., 125., 130., 135., 140., 145., 150., 155., 160., 165., 170., 175., 180., 185., 190., 195., 200., 205., 210., 215., 220., 225., 230., 235., 240., 245., 250., 255., 260., 265., 270., 275., 280., 285., 290., 295., 300., 305., 310., 315., 320., 325., 330., 335., 340., 345., 350., 355.]\n",
    "\n",
    "list_ws_bins = [0., 1., 2., 3., 4., 5., 6., 7., 8., 9., 10., 11., 12., 13., 14., 15., 16., 17., 18., 19., 20., 21., 22., 23., 24., 25., 26.]\n",
    "\n",
    "windr = WindRose()\n",
    "\n",
    "df_wind_calc = windr.make_wind_rose_from_user_data(wd_raw=df_wind_montly['average_wind_dir_deg'], ws_raw=df_wind_montly['Factorized_Mean'], wd=np.array(list_wd_bins), ws=np.array(list_ws_bins))"
   ]
  },
  {
   "cell_type": "code",
   "execution_count": 173,
   "metadata": {},
   "outputs": [],
   "source": [
    "wd_array = np.array(df_wind_calc[\"wd\"].unique(), dtype=float)\n",
    "ws_array = np.array(df_wind_calc[\"ws\"].unique(), dtype=float)\n",
    "\n",
    "\n",
    "wd_grid, ws_grid = np.meshgrid(wd_array, ws_array, indexing=\"ij\")\n",
    "freq_interp = NearestNDInterpolator(df_wind_calc[[\"wd\", \"ws\"]], df_wind_calc[\"freq_val\"])\n",
    "freq = freq_interp(wd_grid, ws_grid)\n",
    "\n",
    "# Normalize the frequency array to sum to exactly 1.0\n",
    "freq = freq / np.sum(freq)"
   ]
  },
  {
   "cell_type": "markdown",
   "metadata": {},
   "source": [
    "### Floris Initialization"
   ]
  },
  {
   "cell_type": "code",
   "execution_count": 175,
   "metadata": {},
   "outputs": [],
   "source": [
    "fi_nrel = FlorisInterface('./gch.yaml')\n",
    "fi_vestas = FlorisInterface('./gch_vestas.yaml')"
   ]
  },
  {
   "cell_type": "code",
   "execution_count": 194,
   "metadata": {},
   "outputs": [],
   "source": [
    "fi_nrel.reinitialize(\n",
    "    layout_x=gen_1_pop[4][\"Layout_x\"],\n",
    "    layout_y=gen_1_pop[4]['Layout_y'],\n",
    "    wind_directions=wd_array,\n",
    "    wind_speeds=ws_array,\n",
    ")"
   ]
  },
  {
   "cell_type": "code",
   "execution_count": 195,
   "metadata": {},
   "outputs": [
    {
     "name": "stdout",
     "output_type": "stream",
     "text": [
      "Farm AEP (no_wake=True): 99.403 GWh\n"
     ]
    }
   ],
   "source": [
    "aep_no_wake = fi_nrel.get_farm_AEP(freq, no_wake=True)\n",
    "print(\"Farm AEP (no_wake=True): {:.3f} GWh\".format(aep_no_wake / 1.0e9))"
   ]
  },
  {
   "cell_type": "code",
   "execution_count": null,
   "metadata": {},
   "outputs": [],
   "source": []
  },
  {
   "cell_type": "markdown",
   "metadata": {},
   "source": [
    "### With AEP Included"
   ]
  },
  {
   "cell_type": "code",
   "execution_count": 196,
   "metadata": {},
   "outputs": [
    {
     "name": "stdout",
     "output_type": "stream",
     "text": [
      "[69.968, 99.403, 29.612]\n",
      "[70.339, 99.403, 29.238]\n",
      "[72.327, 99.403, 27.239]\n",
      "[70.157, 99.403, 29.422]\n",
      "[69.273, 99.403, 30.311]\n",
      "[71.658, 99.403, 27.912]\n",
      "[75.423, 99.403, 24.125]\n",
      "[73.908, 99.403, 25.648]\n",
      "[66.127, 86.978, 23.973]\n",
      "[64.917, 86.978, 25.364]\n",
      "[66.777, 99.403, 32.822]\n",
      "[71.378, 99.403, 28.194]\n",
      "[69.259, 99.403, 30.325]\n",
      "[68.351, 99.403, 31.239]\n",
      "[71.467, 99.403, 28.104]\n",
      "[69.608, 99.403, 29.975]\n",
      "[69.557, 99.403, 30.025]\n",
      "[69.679, 99.403, 29.902]\n",
      "[69.957, 99.403, 29.623]\n",
      "[73.352, 99.403, 26.208]\n",
      "[72.301, 99.403, 27.264]\n",
      "[73.299, 99.403, 26.261]\n",
      "[69.11, 99.403, 30.475]\n",
      "[71.646, 99.403, 27.924]\n",
      "[68.463, 99.403, 31.126]\n",
      "[71.235, 99.403, 28.338]\n",
      "[70.393, 99.403, 29.184]\n",
      "[67.213, 99.403, 32.384]\n",
      "[67.137, 99.403, 32.46]\n",
      "[71.515, 99.403, 28.056]\n",
      "[72.11, 99.403, 27.458]\n",
      "[68.689, 99.403, 30.898]\n",
      "[72.845, 99.403, 26.717]\n",
      "[70.865, 99.403, 28.709]\n",
      "[68.223, 99.403, 31.367]\n",
      "[69.803, 99.403, 29.778]\n",
      "[74.082, 99.403, 25.473]\n",
      "[67.65, 99.403, 31.944]\n",
      "[69.151, 99.403, 30.434]\n",
      "[71.564, 99.403, 28.007]\n"
     ]
    }
   ],
   "source": [
    "def powers(fi, gen_1_pop):\n",
    "    power_list = []\n",
    "    fi.reinitialize(\n",
    "        layout_x=gen_1_pop[\"Layout_x\"],\n",
    "        layout_y=gen_1_pop['Layout_y'],\n",
    "        wind_directions=wd_array,\n",
    "        wind_speeds=ws_array,\n",
    "    )\n",
    "\n",
    "    aep = fi.get_farm_AEP(\n",
    "        freq=freq,\n",
    "        cut_in_wind_speed=4.0,  # Wakes are not evaluated below this wind speed\n",
    "        cut_out_wind_speed=25.0,  # Wakes are not evaluated above this wind speed\n",
    "    )\n",
    "    power_list.append(round((aep / 1.0e9), 3))\n",
    "\n",
    "    aep_no_wake = fi.get_farm_AEP(freq, no_wake=True)\n",
    "    power_list.append(round((aep_no_wake / 1.0e9), 3))\n",
    "\n",
    "    percentage_power_loss = (aep_no_wake - aep) / aep_no_wake * 100\n",
    "    power_list.append(round(percentage_power_loss, 3))\n",
    "\n",
    "\n",
    "    return power_list\n",
    "\n",
    "\n",
    "# nrel_p1_powers[]\n",
    "\n",
    "for _ in range(len(gen_1_pop)):\n",
    "    nrel_p1_powers = powers(fi_nrel, gen_1_pop[_])\n",
    "    print(nrel_p1_powers)\n",
    "\n",
    "# for _ in range(len(populations)):\n",
    "#     nrel_p1_powers = powers(fi_nrel, populations[_])\n",
    "#     print(nrel_p1_powers)\n",
    "# nrel_p1_powers = powers(fi_nrel, gen_1_pop[0])\n",
    "# nrel_p1_powers"
   ]
  },
  {
   "cell_type": "code",
   "execution_count": null,
   "metadata": {},
   "outputs": [],
   "source": []
  }
 ],
 "metadata": {
  "kernelspec": {
   "display_name": "Python 3 (ipykernel)",
   "language": "python",
   "name": "python3"
  },
  "language_info": {
   "name": "python",
   "version": "3.10.13"
  }
 },
 "nbformat": 4,
 "nbformat_minor": 2
}
